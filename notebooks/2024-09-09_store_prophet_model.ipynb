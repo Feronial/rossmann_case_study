{
 "cells": [
  {
   "cell_type": "code",
   "execution_count": 4,
   "metadata": {},
   "outputs": [
    {
     "name": "stderr",
     "output_type": "stream",
     "text": [
      "/Users/skalkan/Desktop/rossmann/rossmann_case_study/env/lib/python3.10/site-packages/tqdm/auto.py:21: TqdmWarning: IProgress not found. Please update jupyter and ipywidgets. See https://ipywidgets.readthedocs.io/en/stable/user_install.html\n",
      "  from .autonotebook import tqdm as notebook_tqdm\n",
      "Importing plotly failed. Interactive plots will not work.\n"
     ]
    }
   ],
   "source": [
    "import pandas as pd\n",
    "import numpy as np\n",
    "\n",
    "from prophet import Prophet\n",
    "from sklearn.metrics import mean_squared_error\n",
    "from math import sqrt\n",
    "\n",
    "def rmspe(y_true, y_pred):\n",
    "  \"\"\"\n",
    "  Calculate Root Mean Squared Percentage Error (RMSPE)\n",
    "  \"\"\"\n",
    "  y_true = np.array(y_true)\n",
    "  y_pred = np.array(y_pred)\n",
    "  \n",
    "  # Neglect 0 y_true values\n",
    "  mask = y_true != 0\n",
    "  y_true = y_true[mask]\n",
    "  y_pred = y_pred[mask]\n",
    "\n",
    "  if len(y_true) == 0:\n",
    "    return 0  # Return 0 if there are no non-zero y_true values\n",
    "\n",
    "  # Calculate the percentage errors\n",
    "  percentage_errors = (y_true - y_pred) / y_true\n",
    "  \n",
    "  # Calculate the squared percentage errors\n",
    "  squared_percentage_errors = percentage_errors ** 2\n",
    "  \n",
    "  # Calculate the mean squared percentage error\n",
    "  mean_squared_percentage_error = np.mean(squared_percentage_errors)\n",
    "  \n",
    "  # Calculate the root mean squared percentage error\n",
    "  root_mean_squared_percentage_error = np.sqrt(mean_squared_percentage_error)\n",
    "  \n",
    "  return root_mean_squared_percentage_error"
   ]
  },
  {
   "cell_type": "code",
   "execution_count": 6,
   "metadata": {},
   "outputs": [
    {
     "name": "stderr",
     "output_type": "stream",
     "text": [
      "/var/folders/wy/rd6_hk5s6xx5sy02hxjsz2gr0000gn/T/ipykernel_29759/2532742017.py:1: DtypeWarning: Columns (7) have mixed types. Specify dtype option on import or set low_memory=False.\n",
      "  df = pd.read_csv('../data/raw/train.csv', index_col = 'Date')\n"
     ]
    }
   ],
   "source": [
    "df = pd.read_csv('../data/raw/train.csv', index_col = 'Date')\n",
    "df = df.drop(columns = ['Id'])\n",
    "df = df.sort_index()"
   ]
  },
  {
   "cell_type": "code",
   "execution_count": 7,
   "metadata": {},
   "outputs": [],
   "source": [
    "# Group the data by 'Store' and count the number of non-null values in each column\n",
    "store_counts = df.groupby('Store').count()\n",
    "\n",
    "# Find the store with the most non-null values in all columns\n",
    "most_available_store = store_counts.sum(axis=1).idxmax()\n",
    "\n",
    "# Select the data for the most available store\n",
    "df_selected = df[df['Store'] == most_available_store]"
   ]
  },
  {
   "cell_type": "code",
   "execution_count": 8,
   "metadata": {},
   "outputs": [
    {
     "name": "stdout",
     "output_type": "stream",
     "text": [
      "<class 'pandas.core.frame.DataFrame'>\n",
      "Index: 928 entries, 2013-01-01 to 2015-07-17\n",
      "Data columns (total 8 columns):\n",
      " #   Column         Non-Null Count  Dtype \n",
      "---  ------         --------------  ----- \n",
      " 0   Store          928 non-null    int64 \n",
      " 1   DayOfWeek      928 non-null    int64 \n",
      " 2   Sales          928 non-null    int64 \n",
      " 3   Customers      928 non-null    int64 \n",
      " 4   Open           928 non-null    int64 \n",
      " 5   Promo          928 non-null    int64 \n",
      " 6   StateHoliday   928 non-null    object\n",
      " 7   SchoolHoliday  928 non-null    int64 \n",
      "dtypes: int64(7), object(1)\n",
      "memory usage: 65.2+ KB\n"
     ]
    }
   ],
   "source": [
    "df_selected.info()"
   ]
  },
  {
   "cell_type": "code",
   "execution_count": 9,
   "metadata": {},
   "outputs": [
    {
     "name": "stderr",
     "output_type": "stream",
     "text": [
      "15:23:51 - cmdstanpy - INFO - Chain [1] start processing\n",
      "15:23:52 - cmdstanpy - INFO - Chain [1] done processing\n"
     ]
    },
    {
     "name": "stdout",
     "output_type": "stream",
     "text": [
      "RMSE: 1107.9731783500572\n",
      "RMSPE: 0.19557501312049033\n"
     ]
    }
   ],
   "source": [
    "# Prepare the data for Prophet\n",
    "df_prophet = df_selected[['Sales']].reset_index()\n",
    "df_prophet.columns = ['ds', 'y']\n",
    "\n",
    "# Split the data into train and test sets\n",
    "train_size = int(len(df_prophet) * 0.8)\n",
    "train_data = df_prophet[:train_size]\n",
    "test_data = df_prophet[train_size:]\n",
    "\n",
    "# Create and fit the Prophet model\n",
    "model = Prophet()\n",
    "model.fit(train_data)\n",
    "\n",
    "# Make predictions on the test data\n",
    "predictions = model.predict(test_data[['ds']])\n",
    "\n",
    "# Evaluate the model\n",
    "rmse = sqrt(mean_squared_error(test_data['y'], predictions['yhat']))\n",
    "print('RMSE:', rmse)\n",
    "\n",
    "rmspe_score = rmspe(test_data['y'], predictions['yhat'])\n",
    "print('RMSPE:', rmspe_score)"
   ]
  },
  {
   "cell_type": "code",
   "execution_count": null,
   "metadata": {},
   "outputs": [],
   "source": []
  }
 ],
 "metadata": {
  "kernelspec": {
   "display_name": "Python 3",
   "language": "python",
   "name": "python3"
  },
  "language_info": {
   "codemirror_mode": {
    "name": "ipython",
    "version": 3
   },
   "file_extension": ".py",
   "mimetype": "text/x-python",
   "name": "python",
   "nbconvert_exporter": "python",
   "pygments_lexer": "ipython3",
   "version": "3.10.14"
  }
 },
 "nbformat": 4,
 "nbformat_minor": 2
}
