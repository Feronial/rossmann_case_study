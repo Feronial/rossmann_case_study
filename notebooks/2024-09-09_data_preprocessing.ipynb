{
  "cells": [
    {
      "cell_type": "code",
      "execution_count": 1,
      "metadata": {
        "id": "VnVMEw4aPR37"
      },
      "outputs": [],
      "source": [
        "import pandas as pd\n",
        "import numpy as np\n",
        "import matplotlib.pyplot as plt\n",
        "import seaborn as sns"
      ]
    },
    {
      "cell_type": "code",
      "execution_count": 2,
      "metadata": {
        "colab": {
          "base_uri": "https://localhost:8080/"
        },
        "id": "EnQjcOKdPaJC",
        "outputId": "2d9f818c-b832-482b-fe53-c0071032ddff"
      },
      "outputs": [
        {
          "name": "stderr",
          "output_type": "stream",
          "text": [
            "/var/folders/wy/rd6_hk5s6xx5sy02hxjsz2gr0000gn/T/ipykernel_17520/4176508223.py:2: DtypeWarning: Columns (7) have mixed types. Specify dtype option on import or set low_memory=False.\n",
            "  df_train = pd.read_csv('../data/raw/train.csv')\n"
          ]
        }
      ],
      "source": [
        "# Reading Data\n",
        "df_train = pd.read_csv('../data/raw/train.csv')\n",
        "df_store = pd.read_csv('../data/raw/store.csv')"
      ]
    },
    {
      "cell_type": "code",
      "execution_count": 3,
      "metadata": {
        "id": "CxQ5ybzkPcWc"
      },
      "outputs": [],
      "source": [
        "df_train['Date'] = pd.to_datetime(df_train['Date'])\n",
        "\n",
        "df_train['Day'] = df_train['Date'].dt.day\n",
        "df_train['Month'] = df_train['Date'].dt.month\n",
        "df_train['Quarter'] = df_train['Date'].dt.quarter"
      ]
    },
    {
      "cell_type": "code",
      "execution_count": 4,
      "metadata": {
        "id": "d7UHgW_pPig_"
      },
      "outputs": [],
      "source": [
        "df_train = df_train.drop('Id', axis=1)\n",
        "df_train = pd.merge(df_train, df_store, on='Store')"
      ]
    },
    {
      "cell_type": "code",
      "execution_count": 6,
      "metadata": {
        "colab": {
          "base_uri": "https://localhost:8080/"
        },
        "id": "-ZT0yr-gVPD5",
        "outputId": "ad480b61-eadc-407a-ccb2-9861f09ad7be"
      },
      "outputs": [
        {
          "name": "stdout",
          "output_type": "stream",
          "text": [
            "<class 'pandas.core.frame.DataFrame'>\n",
            "RangeIndex: 1001599 entries, 0 to 1001598\n",
            "Data columns (total 21 columns):\n",
            " #   Column                     Non-Null Count    Dtype         \n",
            "---  ------                     --------------    -----         \n",
            " 0   Store                      1001599 non-null  int64         \n",
            " 1   DayOfWeek                  1001599 non-null  int64         \n",
            " 2   Date                       1001599 non-null  datetime64[ns]\n",
            " 3   Sales                      1001599 non-null  int64         \n",
            " 4   Customers                  1001599 non-null  int64         \n",
            " 5   Open                       1001599 non-null  int64         \n",
            " 6   Promo                      1001599 non-null  int64         \n",
            " 7   StateHoliday               1001599 non-null  object        \n",
            " 8   SchoolHoliday              1001599 non-null  int64         \n",
            " 9   Day                        1001599 non-null  int32         \n",
            " 10  Month                      1001599 non-null  int32         \n",
            " 11  Quarter                    1001599 non-null  int32         \n",
            " 12  StoreType                  1001599 non-null  object        \n",
            " 13  Assortment                 1001599 non-null  object        \n",
            " 14  CompetitionDistance        998999 non-null   float64       \n",
            " 15  CompetitionOpenSinceMonth  683207 non-null   float64       \n",
            " 16  CompetitionOpenSinceYear   683207 non-null   float64       \n",
            " 17  Promo2                     1001599 non-null  int64         \n",
            " 18  Promo2SinceWeek            501184 non-null   float64       \n",
            " 19  Promo2SinceYear            501184 non-null   float64       \n",
            " 20  PromoInterval              501184 non-null   object        \n",
            "dtypes: datetime64[ns](1), float64(5), int32(3), int64(8), object(4)\n",
            "memory usage: 149.0+ MB\n"
          ]
        }
      ],
      "source": [
        "df_train.info()"
      ]
    },
    {
      "cell_type": "code",
      "execution_count": 7,
      "metadata": {
        "id": "P-hqN0SgQGwY"
      },
      "outputs": [],
      "source": [
        "df_train['StateHoliday_0'] = np.where((df_train['StateHoliday'] == 0) | (df_train['StateHoliday'] == '0'), 1, 0)\n",
        "df_train['StateHoliday_a'] = np.where(df_train['StateHoliday'] == 'a', 1, 0)\n",
        "df_train['StateHoliday_b'] = np.where(df_train['StateHoliday'] == 'b', 1, 0)\n",
        "df_train['StateHoliday_c'] = np.where(df_train['StateHoliday'] == 'c', 1, 0)\n",
        "\n",
        "df_train = df_train.drop(['StateHoliday'], axis=1)"
      ]
    },
    {
      "cell_type": "code",
      "execution_count": 8,
      "metadata": {
        "id": "Lpuu2OLzQyI8"
      },
      "outputs": [],
      "source": [
        "df_train['StoreType_a'] = np.where(df_train['StoreType'] == 'a', 1, 0)\n",
        "df_train['StoreType_b'] = np.where(df_train['StoreType'] == 'b', 1, 0)\n",
        "df_train['StoreType_c'] = np.where(df_train['StoreType'] == 'c', 1, 0)\n",
        "df_train['StoreType_d'] = np.where(df_train['StoreType'] == 'd', 1, 0)\n",
        "df_train = df_train.drop(['StoreType'], axis=1)\n",
        "\n",
        "df_train['Assortment'] = np.where(df_train['Assortment'] == 'a', 1, 0)\n",
        "df_train['Assortment'] = np.where(df_train['Assortment'] == 'b', 1, 0)\n",
        "df_train['Assortment'] = np.where(df_train['Assortment'] == 'c', 1, 0)\n",
        "df_train = df_train.drop(['Assortment'], axis=1)"
      ]
    },
    {
      "cell_type": "code",
      "execution_count": 9,
      "metadata": {
        "id": "4fgpMzRFPnOU"
      },
      "outputs": [],
      "source": [
        "df_train['PromoInterval_Jan'] = np.where(df_train['PromoInterval'].str.contains('Jan'), 1, 0)\n",
        "df_train['PromoInterval_Feb'] = np.where(df_train['PromoInterval'].str.contains('Feb'), 1, 0)\n",
        "df_train['PromoInterval_Mar'] = np.where(df_train['PromoInterval'].str.contains('Mar'), 1, 0)\n",
        "df_train['PromoInterval_Apr'] = np.where(df_train['PromoInterval'].str.contains('Apr'), 1, 0)\n",
        "df_train['PromoInterval_May'] = np.where(df_train['PromoInterval'].str.contains('May'), 1, 0)\n",
        "df_train['PromoInterval_Jun'] = np.where(df_train['PromoInterval'].str.contains('Jun'), 1, 0)\n",
        "df_train['PromoInterval_Jul'] = np.where(df_train['PromoInterval'].str.contains('Jul'), 1, 0)\n",
        "df_train['PromoInterval_Aug'] = np.where(df_train['PromoInterval'].str.contains('Aug'), 1, 0)\n",
        "df_train['PromoInterval_Sept'] = np.where(df_train['PromoInterval'].str.contains('Sept'), 1, 0)\n",
        "df_train['PromoInterval_Oct'] = np.where(df_train['PromoInterval'].str.contains('Oct'), 1, 0)\n",
        "df_train['PromoInterval_Nov'] = np.where(df_train['PromoInterval'].str.contains('Nov'), 1, 0)\n",
        "df_train['PromoInterval_Dec'] = np.where(df_train['PromoInterval'].str.contains('Dec'), 1, 0)\n",
        "df_train = df_train.drop(['PromoInterval'], axis=1)\n"
      ]
    },
    {
      "cell_type": "code",
      "execution_count": 10,
      "metadata": {
        "id": "EBMv25Paflxs"
      },
      "outputs": [],
      "source": [
        "df_train = df_train.fillna(0)"
      ]
    },
    {
      "cell_type": "code",
      "execution_count": 11,
      "metadata": {
        "id": "Y2oYfgalZqz3"
      },
      "outputs": [],
      "source": [
        "# Sort the DataFrame by Store and Date\n",
        "df_train = df_train.sort_values(['Store', 'Date'])\n",
        "\n",
        "# Calculate the last week same day sales\n",
        "df_train['Sales_LastWeek'] = df_train.groupby(['Store'])['Sales'].transform(lambda x: x.shift(7))\n",
        "df_train['Sales_LastMonth'] = df_train.groupby(['Store'])['Sales'].transform(lambda x: x.shift(30))\n",
        "\n",
        "df_train['Customers_LastWeek'] = df_train.groupby(['Store'])['Customers'].transform(lambda x: x.shift(7))\n",
        "df_train['Customers_LastMonth'] = df_train.groupby(['Store'])['Customers'].transform(lambda x: x.shift(30))"
      ]
    },
    {
      "cell_type": "code",
      "execution_count": 12,
      "metadata": {
        "id": "3zilKSRjZnIQ"
      },
      "outputs": [],
      "source": [
        "# Calculate the total sales for the last week\n",
        "df_train['TotalSales_LastWeek'] = df_train.groupby(['Store', 'Month'])['Sales'].transform(lambda x: x.rolling(window=7).sum().shift(1))\n",
        "df_train['MeanSales_LastWeek'] = df_train.groupby(['Store', 'Month'])['Sales'].transform(lambda x: x.rolling(window=7).mean().shift(1))\n",
        "df_train['MedianSales_LastWeek'] = df_train.groupby(['Store', 'Month'])['Sales'].transform(lambda x: x.rolling(window=7).median().shift(1))\n",
        "df_train['MinSales_LastWeek'] = df_train.groupby(['Store', 'Month'])['Sales'].transform(lambda x: x.rolling(window=7).min().shift(1))\n",
        "df_train['MaxSales_LastWeek'] = df_train.groupby(['Store', 'Month'])['Sales'].transform(lambda x: x.rolling(window=7).max().shift(1))\n",
        "df_train['StdSales_LastWeek'] = df_train.groupby(['Store', 'Month'])['Sales'].transform(lambda x: x.rolling(window=7).std().shift(1))\n",
        "\n",
        "df_train['TotalCustomers_LastWeek'] = df_train.groupby(['Store', 'Month'])['Customers'].transform(lambda x: x.rolling(window=7).sum().shift(1))\n",
        "df_train['MeanCustomers_LastWeek'] = df_train.groupby(['Store', 'Month'])['Customers'].transform(lambda x: x.rolling(window=7).mean().shift(1))\n",
        "df_train['MedianCustomers_LastWeek'] = df_train.groupby(['Store', 'Month'])['Customers'].transform(lambda x: x.rolling(window=7).median().shift(1))\n",
        "df_train['MinCustomers_LastWeek'] = df_train.groupby(['Store', 'Month'])['Customers'].transform(lambda x: x.rolling(window=7).min().shift(1))\n",
        "df_train['MaxCustomers_LastWeek'] = df_train.groupby(['Store', 'Month'])['Customers'].transform(lambda x: x.rolling(window=7).max().shift(1))\n",
        "df_train['StdCustomers_LastWeek'] = df_train.groupby(['Store', 'Month'])['Customers'].transform(lambda x: x.rolling(window=7).std().shift(1))\n",
        "\n"
      ]
    },
    {
      "cell_type": "code",
      "execution_count": 13,
      "metadata": {
        "id": "LAYpAOzJeMVA"
      },
      "outputs": [],
      "source": [
        "df_train = df_train.dropna()"
      ]
    },
    {
      "cell_type": "code",
      "execution_count": 14,
      "metadata": {
        "id": "QaDomok8hUgt"
      },
      "outputs": [
        {
          "name": "stdout",
          "output_type": "stream",
          "text": [
            "<class 'pandas.core.frame.DataFrame'>\n",
            "Index: 882294 entries, 967035 to 1114\n",
            "Data columns (total 53 columns):\n",
            " #   Column                     Non-Null Count   Dtype         \n",
            "---  ------                     --------------   -----         \n",
            " 0   Store                      882294 non-null  int64         \n",
            " 1   DayOfWeek                  882294 non-null  int64         \n",
            " 2   Date                       882294 non-null  datetime64[ns]\n",
            " 3   Sales                      882294 non-null  int64         \n",
            " 4   Customers                  882294 non-null  int64         \n",
            " 5   Open                       882294 non-null  int64         \n",
            " 6   Promo                      882294 non-null  int64         \n",
            " 7   SchoolHoliday              882294 non-null  int64         \n",
            " 8   Day                        882294 non-null  int32         \n",
            " 9   Month                      882294 non-null  int32         \n",
            " 10  Quarter                    882294 non-null  int32         \n",
            " 11  CompetitionDistance        882294 non-null  float64       \n",
            " 12  CompetitionOpenSinceMonth  882294 non-null  float64       \n",
            " 13  CompetitionOpenSinceYear   882294 non-null  float64       \n",
            " 14  Promo2                     882294 non-null  int64         \n",
            " 15  Promo2SinceWeek            882294 non-null  float64       \n",
            " 16  Promo2SinceYear            882294 non-null  float64       \n",
            " 17  StateHoliday_0             882294 non-null  int64         \n",
            " 18  StateHoliday_a             882294 non-null  int64         \n",
            " 19  StateHoliday_b             882294 non-null  int64         \n",
            " 20  StateHoliday_c             882294 non-null  int64         \n",
            " 21  StoreType_a                882294 non-null  int64         \n",
            " 22  StoreType_b                882294 non-null  int64         \n",
            " 23  StoreType_c                882294 non-null  int64         \n",
            " 24  StoreType_d                882294 non-null  int64         \n",
            " 25  PromoInterval_Jan          882294 non-null  int64         \n",
            " 26  PromoInterval_Feb          882294 non-null  int64         \n",
            " 27  PromoInterval_Mar          882294 non-null  int64         \n",
            " 28  PromoInterval_Apr          882294 non-null  int64         \n",
            " 29  PromoInterval_May          882294 non-null  int64         \n",
            " 30  PromoInterval_Jun          882294 non-null  int64         \n",
            " 31  PromoInterval_Jul          882294 non-null  int64         \n",
            " 32  PromoInterval_Aug          882294 non-null  int64         \n",
            " 33  PromoInterval_Sept         882294 non-null  int64         \n",
            " 34  PromoInterval_Oct          882294 non-null  int64         \n",
            " 35  PromoInterval_Nov          882294 non-null  int64         \n",
            " 36  PromoInterval_Dec          882294 non-null  int64         \n",
            " 37  Sales_LastWeek             882294 non-null  float64       \n",
            " 38  Sales_LastMonth            882294 non-null  float64       \n",
            " 39  Customers_LastWeek         882294 non-null  float64       \n",
            " 40  Customers_LastMonth        882294 non-null  float64       \n",
            " 41  TotalSales_LastWeek        882294 non-null  float64       \n",
            " 42  MeanSales_LastWeek         882294 non-null  float64       \n",
            " 43  MedianSales_LastWeek       882294 non-null  float64       \n",
            " 44  MinSales_LastWeek          882294 non-null  float64       \n",
            " 45  MaxSales_LastWeek          882294 non-null  float64       \n",
            " 46  StdSales_LastWeek          882294 non-null  float64       \n",
            " 47  TotalCustomers_LastWeek    882294 non-null  float64       \n",
            " 48  MeanCustomers_LastWeek     882294 non-null  float64       \n",
            " 49  MedianCustomers_LastWeek   882294 non-null  float64       \n",
            " 50  MinCustomers_LastWeek      882294 non-null  float64       \n",
            " 51  MaxCustomers_LastWeek      882294 non-null  float64       \n",
            " 52  StdCustomers_LastWeek      882294 non-null  float64       \n",
            "dtypes: datetime64[ns](1), float64(21), int32(3), int64(28)\n",
            "memory usage: 353.4 MB\n"
          ]
        }
      ],
      "source": [
        "df_train.info()"
      ]
    },
    {
      "cell_type": "code",
      "execution_count": 16,
      "metadata": {
        "id": "Nc4Lw0Rlgbej"
      },
      "outputs": [],
      "source": [
        "df_train.to_csv('../data/processed/rossmann_sales_df.csv', index=False)"
      ]
    },
    {
      "cell_type": "code",
      "execution_count": null,
      "metadata": {},
      "outputs": [],
      "source": []
    }
  ],
  "metadata": {
    "colab": {
      "provenance": []
    },
    "kernelspec": {
      "display_name": "Python 3",
      "name": "python3"
    },
    "language_info": {
      "codemirror_mode": {
        "name": "ipython",
        "version": 3
      },
      "file_extension": ".py",
      "mimetype": "text/x-python",
      "name": "python",
      "nbconvert_exporter": "python",
      "pygments_lexer": "ipython3",
      "version": "3.10.14"
    }
  },
  "nbformat": 4,
  "nbformat_minor": 0
}
